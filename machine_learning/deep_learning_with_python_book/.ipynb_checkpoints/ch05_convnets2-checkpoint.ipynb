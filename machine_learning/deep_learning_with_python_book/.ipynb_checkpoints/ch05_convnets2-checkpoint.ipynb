{
 "cells": [
  {
   "cell_type": "code",
   "execution_count": 3,
   "metadata": {},
   "outputs": [],
   "source": [
    "import os, shutil\n",
    "\n",
    "original_dataset_dir = '/Users/tristansaldanha/Documents/Funk/GitHub/notes/datasets/dogs-vs-cats/train'\n",
    "\n",
    "base_dir = '/Users/tristansaldanha/Documents/Funk/GitHub/notes/datasets/dogs-v-cats'\n",
    "os.mkdir(base_dir)\n",
    "\n",
    "train_dir = os.path.join(base_dir, 'train')\n",
    "os.mkdir(train_dir)\n",
    "validation_dir = os.path.join(base_dir, 'validation')\n",
    "os.mkdir(validation_dir)\n",
    "test_dir = os.path.join(base_dir, 'test')\n",
    "os.mkdir(test_dir)\n",
    "train_cats_dir = os.path.join(train_dir, 'cats')\n",
    "os.mkdir(train_cats_dir)\n",
    "\n",
    "train_dogs_dir = os.path.join(train_dir, 'dogs')\n",
    "os.mkdir(train_dogs_dir)\n",
    "\n",
    "validation_cats_dir = os.path.join(validation_dir, 'cats')\n",
    "os.mkdir(validation_cats_dir)\n",
    "\n",
    "validation_dogs_dir = os.path.join(validation_dir, 'dogs')\n",
    "os.mkdir(validation_dogs_dir)\n",
    "\n",
    "test_cats_dir = os.path.join(test_dir, 'cats')\n",
    "os.mkdir(test_cats_dir)\n",
    "\n",
    "test_dogs_dir = os.path.join(test_dir, 'dogs')\n",
    "os.mkdir(test_dogs_dir)\n",
    "\n",
    "fnames = ['cat.{}.jpg'.format(i) for i in range(1000)]\n",
    "for fname in fnames:\n",
    "    src = os.path.join(original_dataset_dir, fname)\n",
    "    dst = os.path.join(train_cats_dir, fname)\n",
    "    shutil.copyfile(src, dst)\n",
    "    fnames = ['cat.{}.jpg'.format(i) for i in range(1000, 1500)]\n",
    "\n",
    "for fname in fnames:\n",
    "    src = os.path.join(original_dataset_dir, fname)\n",
    "    dst = os.path.join(validation_cats_dir, fname)\n",
    "    shutil.copyfile(src, dst)\n",
    "    fnames = ['cat.{}.jpg'.format(i) for i in range(1500, 2000)]\n",
    "for fname in fnames:\n",
    "    src = os.path.join(original_dataset_dir, fname)\n",
    "    dst = os.path.join(test_cats_dir, fname)\n",
    "    shutil.copyfile(src, dst)\n",
    "\n",
    "fnames = ['dog.{}.jpg'.format(i) for i in range(1000)]\n",
    "for fname in fnames:\n",
    "    src = os.path.join(original_dataset_dir, fname)\n",
    "    dst = os.path.join(train_dogs_dir, fname)\n",
    "    shutil.copyfile(src, dst)\n",
    "    fnames = ['dog.{}.jpg'.format(i) for i in range(1000, 1500)]\n",
    "for fname in fnames:\n",
    "    src = os.path.join(original_dataset_dir, fname)\n",
    "    dst = os.path.join(validation_dogs_dir, fname)\n",
    "    shutil.copyfile(src, dst)\n",
    "    fnames = ['dog.{}.jpg'.format(i) for i in range(1500, 2000)]\n",
    "for fname in fnames:\n",
    "    src = os.path.join(original_dataset_dir, fname)\n",
    "    dst = os.path.join(test_dogs_dir, fname)\n",
    "    shutil.copyfile(src, dst)"
   ]
  },
  {
   "cell_type": "code",
   "execution_count": 4,
   "metadata": {},
   "outputs": [
    {
     "name": "stdout",
     "output_type": "stream",
     "text": [
      "total training cat images: 1000\n",
      "total training dog images: 1000\n",
      "total validation cat images: 500\n",
      "total validation dog images: 500\n",
      "total test cat images: 500\n",
      "total test dog images: 500\n"
     ]
    }
   ],
   "source": [
    "print('total training cat images:', len(os.listdir(train_cats_dir)))\n",
    "print('total training dog images:', len(os.listdir(train_dogs_dir)))\n",
    "print('total validation cat images:', len(os.listdir(validation_cats_dir)))\n",
    "print('total validation dog images:', len(os.listdir(validation_dogs_dir)))\n",
    "print('total test cat images:', len(os.listdir(test_cats_dir)))\n",
    "print('total test dog images:', len(os.listdir(test_dogs_dir)))"
   ]
  },
  {
   "cell_type": "code",
   "execution_count": 12,
   "metadata": {
    "scrolled": true
   },
   "outputs": [
    {
     "name": "stdout",
     "output_type": "stream",
     "text": [
      "Model: \"sequential_3\"\n",
      "_________________________________________________________________\n",
      " Layer (type)                Output Shape              Param #   \n",
      "=================================================================\n",
      " conv2d_12 (Conv2D)          (None, 148, 148, 32)      896       \n",
      "                                                                 \n",
      " max_pooling2d_12 (MaxPoolin  (None, 74, 74, 32)       0         \n",
      " g2D)                                                            \n",
      "                                                                 \n",
      " conv2d_13 (Conv2D)          (None, 72, 72, 64)        18496     \n",
      "                                                                 \n",
      " max_pooling2d_13 (MaxPoolin  (None, 36, 36, 64)       0         \n",
      " g2D)                                                            \n",
      "                                                                 \n",
      " conv2d_14 (Conv2D)          (None, 34, 34, 128)       73856     \n",
      "                                                                 \n",
      " max_pooling2d_14 (MaxPoolin  (None, 17, 17, 128)      0         \n",
      " g2D)                                                            \n",
      "                                                                 \n",
      " conv2d_15 (Conv2D)          (None, 15, 15, 128)       147584    \n",
      "                                                                 \n",
      " max_pooling2d_15 (MaxPoolin  (None, 7, 7, 128)        0         \n",
      " g2D)                                                            \n",
      "                                                                 \n",
      " flatten_3 (Flatten)         (None, 6272)              0         \n",
      "                                                                 \n",
      " dense_6 (Dense)             (None, 512)               3211776   \n",
      "                                                                 \n",
      " dense_7 (Dense)             (None, 1)                 513       \n",
      "                                                                 \n",
      "=================================================================\n",
      "Total params: 3,453,121\n",
      "Trainable params: 3,453,121\n",
      "Non-trainable params: 0\n",
      "_________________________________________________________________\n"
     ]
    }
   ],
   "source": [
    "from keras import layers\n",
    "from keras import models\n",
    "\n",
    "model = models.Sequential()\n",
    "model.add(layers.Conv2D(32, (3, 3), activation='relu',\n",
    "input_shape=(150, 150, 3)))\n",
    "model.add(layers.MaxPooling2D((2, 2)))\n",
    "model.add(layers.Conv2D(64, (3, 3), activation='relu'))\n",
    "model.add(layers.MaxPooling2D((2, 2)))\n",
    "model.add(layers.Conv2D(128, (3, 3), activation='relu'))\n",
    "model.add(layers.MaxPooling2D((2, 2)))\n",
    "model.add(layers.Conv2D(128, (3, 3), activation='relu'))\n",
    "model.add(layers.MaxPooling2D((2, 2)))\n",
    "model.add(layers.Flatten())\n",
    "model.add(layers.Dense(512, activation='relu'))\n",
    "model.add(layers.Dense(1, activation='sigmoid'))\n",
    "model.summary()"
   ]
  },
  {
   "cell_type": "code",
   "execution_count": 14,
   "metadata": {},
   "outputs": [],
   "source": [
    "from tensorflow.keras import optimizers\n",
    "model.compile(loss='binary_crossentropy',\n",
    "optimizer=optimizers.RMSprop(lr=1e-4),\n",
    "metrics=['acc'])"
   ]
  },
  {
   "cell_type": "code",
   "execution_count": 17,
   "metadata": {},
   "outputs": [
    {
     "name": "stdout",
     "output_type": "stream",
     "text": [
      "Found 2000 images belonging to 2 classes.\n",
      "Found 1000 images belonging to 2 classes.\n",
      "data batch shape: (20, 150, 150, 3)\n",
      "labels batch shape: (20,)\n"
     ]
    }
   ],
   "source": [
    "# preprocessing with some libraries\n",
    "\n",
    "from keras.preprocessing.image import ImageDataGenerator\n",
    "train_datagen = ImageDataGenerator(rescale=1./255)\n",
    "test_datagen = ImageDataGenerator(rescale=1./255)\n",
    "train_generator = train_datagen.flow_from_directory(train_dir,target_size=(150, 150), batch_size=20,class_mode='binary')\n",
    "validation_generator = test_datagen.flow_from_directory(validation_dir,target_size=(150, 150),batch_size=20,class_mode='binary')\n",
    "\n",
    "# working with batch generators\n",
    "\n",
    "for data_batch, labels_batch in train_generator:\n",
    "    print('data batch shape:', data_batch.shape)\n",
    "    print('labels batch shape:', labels_batch.shape)\n",
    "    break"
   ]
  },
  {
   "cell_type": "code",
   "execution_count": 18,
   "metadata": {},
   "outputs": [
    {
     "name": "stderr",
     "output_type": "stream",
     "text": [
      "<ipython-input-18-8fef23b43441>:2: UserWarning: `Model.fit_generator` is deprecated and will be removed in a future version. Please use `Model.fit`, which supports generators.\n",
      "  history = model.fit_generator(\n"
     ]
    },
    {
     "name": "stdout",
     "output_type": "stream",
     "text": [
      "Epoch 1/30\n",
      "100/100 [==============================] - 28s 277ms/step - loss: 0.6900 - acc: 0.5355 - val_loss: 0.6739 - val_acc: 0.6100\n",
      "Epoch 2/30\n",
      "100/100 [==============================] - 28s 281ms/step - loss: 0.6533 - acc: 0.6285 - val_loss: 0.6460 - val_acc: 0.6550\n",
      "Epoch 3/30\n",
      "100/100 [==============================] - 29s 287ms/step - loss: 0.6155 - acc: 0.6700 - val_loss: 0.6246 - val_acc: 0.6540\n",
      "Epoch 4/30\n",
      "100/100 [==============================] - 28s 283ms/step - loss: 0.5691 - acc: 0.7040 - val_loss: 0.6039 - val_acc: 0.6710\n",
      "Epoch 5/30\n",
      "100/100 [==============================] - 32s 315ms/step - loss: 0.5370 - acc: 0.7280 - val_loss: 0.5840 - val_acc: 0.6900\n",
      "Epoch 6/30\n",
      "100/100 [==============================] - 32s 320ms/step - loss: 0.5050 - acc: 0.7450 - val_loss: 0.5804 - val_acc: 0.6830\n",
      "Epoch 7/30\n",
      "100/100 [==============================] - 30s 303ms/step - loss: 0.4755 - acc: 0.7635 - val_loss: 0.5834 - val_acc: 0.7030\n",
      "Epoch 8/30\n",
      "100/100 [==============================] - 39s 394ms/step - loss: 0.4464 - acc: 0.7910 - val_loss: 0.6118 - val_acc: 0.6940\n",
      "Epoch 9/30\n",
      "100/100 [==============================] - 29s 289ms/step - loss: 0.4236 - acc: 0.8065 - val_loss: 0.5784 - val_acc: 0.7120\n",
      "Epoch 10/30\n",
      "100/100 [==============================] - 30s 301ms/step - loss: 0.4024 - acc: 0.8115 - val_loss: 0.6226 - val_acc: 0.6900\n",
      "Epoch 11/30\n",
      "100/100 [==============================] - 31s 306ms/step - loss: 0.3771 - acc: 0.8260 - val_loss: 0.5751 - val_acc: 0.7140\n",
      "Epoch 12/30\n",
      "100/100 [==============================] - 30s 305ms/step - loss: 0.3503 - acc: 0.8390 - val_loss: 0.5749 - val_acc: 0.7270\n",
      "Epoch 13/30\n",
      "100/100 [==============================] - 31s 314ms/step - loss: 0.3354 - acc: 0.8580 - val_loss: 0.5851 - val_acc: 0.7290\n",
      "Epoch 14/30\n",
      "100/100 [==============================] - 29s 288ms/step - loss: 0.3082 - acc: 0.8675 - val_loss: 0.5976 - val_acc: 0.7250\n",
      "Epoch 15/30\n",
      "100/100 [==============================] - 28s 283ms/step - loss: 0.2855 - acc: 0.8810 - val_loss: 0.6024 - val_acc: 0.7180\n",
      "Epoch 16/30\n",
      "100/100 [==============================] - 30s 302ms/step - loss: 0.2605 - acc: 0.8945 - val_loss: 0.6242 - val_acc: 0.7260\n",
      "Epoch 17/30\n",
      "100/100 [==============================] - 28s 280ms/step - loss: 0.2404 - acc: 0.8995 - val_loss: 0.6576 - val_acc: 0.7200\n",
      "Epoch 18/30\n",
      "100/100 [==============================] - 29s 293ms/step - loss: 0.2183 - acc: 0.9185 - val_loss: 0.6554 - val_acc: 0.7210\n",
      "Epoch 19/30\n",
      "100/100 [==============================] - 30s 295ms/step - loss: 0.1984 - acc: 0.9250 - val_loss: 0.6929 - val_acc: 0.7170\n",
      "Epoch 20/30\n",
      "100/100 [==============================] - 30s 302ms/step - loss: 0.1763 - acc: 0.9370 - val_loss: 0.8207 - val_acc: 0.7050\n",
      "Epoch 21/30\n",
      "100/100 [==============================] - 30s 298ms/step - loss: 0.1507 - acc: 0.9450 - val_loss: 0.8738 - val_acc: 0.7090\n",
      "Epoch 22/30\n",
      "100/100 [==============================] - 30s 296ms/step - loss: 0.1360 - acc: 0.9525 - val_loss: 0.7529 - val_acc: 0.7110\n",
      "Epoch 23/30\n",
      "100/100 [==============================] - 29s 291ms/step - loss: 0.1174 - acc: 0.9645 - val_loss: 0.8448 - val_acc: 0.7150\n",
      "Epoch 24/30\n",
      "100/100 [==============================] - 34s 345ms/step - loss: 0.1032 - acc: 0.9700 - val_loss: 1.0941 - val_acc: 0.6940\n",
      "Epoch 25/30\n",
      "100/100 [==============================] - 29s 288ms/step - loss: 0.0949 - acc: 0.9695 - val_loss: 0.8686 - val_acc: 0.7190\n",
      "Epoch 26/30\n",
      "100/100 [==============================] - 29s 287ms/step - loss: 0.0787 - acc: 0.9810 - val_loss: 0.9543 - val_acc: 0.7140\n",
      "Epoch 27/30\n",
      "100/100 [==============================] - 32s 319ms/step - loss: 0.0712 - acc: 0.9795 - val_loss: 0.9055 - val_acc: 0.7190\n",
      "Epoch 28/30\n",
      "100/100 [==============================] - 30s 301ms/step - loss: 0.0595 - acc: 0.9810 - val_loss: 1.1047 - val_acc: 0.7080\n",
      "Epoch 29/30\n",
      "100/100 [==============================] - 32s 319ms/step - loss: 0.0537 - acc: 0.9825 - val_loss: 1.0038 - val_acc: 0.7170\n",
      "Epoch 30/30\n",
      "100/100 [==============================] - 30s 304ms/step - loss: 0.0374 - acc: 0.9925 - val_loss: 1.1637 - val_acc: 0.7090\n"
     ]
    }
   ],
   "source": [
    "# fit generator, similar to fit\n",
    "history = model.fit_generator(\n",
    "    train_generator,\n",
    "    steps_per_epoch=100,\n",
    "    epochs=30,\n",
    "    validation_data=validation_generator,\n",
    "    validation_steps=50)"
   ]
  },
  {
   "cell_type": "code",
   "execution_count": 19,
   "metadata": {},
   "outputs": [],
   "source": [
    "# Save the models\n",
    "\n",
    "model.save('cats_and_dogs_small_1.h5')"
   ]
  },
  {
   "cell_type": "code",
   "execution_count": 20,
   "metadata": {},
   "outputs": [
    {
     "data": {
      "image/png": "[encoded data removed]",
      "text/plain": [
       "<Figure size 432x288 with 1 Axes>"
      ]
     },
     "metadata": {
      "needs_background": "light"
     },
     "output_type": "display_data"
    },
    {
     "data": {
      "image/png": "[encoded data removed]",
      "text/plain": [
       "<Figure size 432x288 with 1 Axes>"
      ]
     },
     "metadata": {
      "needs_background": "light"
     },
     "output_type": "display_data"
    }
   ],
   "source": [
    "# Plotting loss curves\n",
    "\n",
    "import matplotlib.pyplot as plt\n",
    "\n",
    "acc = history.history['acc']\n",
    "val_acc = history.history['val_acc']\n",
    "loss = history.history['loss']\n",
    "val_loss = history.history['val_loss']\n",
    "epochs = range(1, len(acc) + 1)\n",
    "plt.plot(epochs, acc, 'bo', label='Training acc')\n",
    "plt.plot(epochs, val_acc, 'b', label='Validation acc')\n",
    "plt.title('Training and validation accuracy')\n",
    "plt.legend()\n",
    "plt.figure()\n",
    "\n",
    "plt.plot(epochs, loss, 'bo', label='Training loss')\n",
    "plt.plot(epochs, val_loss, 'b', label='Validation loss')\n",
    "plt.title('Training and validation loss')\n",
    "plt.legend()\n",
    "plt.show()"
   ]
  }
 ],
 "metadata": {
  "kernelspec": {
   "display_name": "Python 3",
   "language": "python",
   "name": "python3"
  },
  "language_info": {
   "codemirror_mode": {
    "name": "ipython",
    "version": 3
   },
   "file_extension": ".py",
   "mimetype": "text/x-python",
   "name": "python",
   "nbconvert_exporter": "python",
   "pygments_lexer": "ipython3",
   "version": "3.8.5"
  }
 },
 "nbformat": 4,
 "nbformat_minor": 4
}
